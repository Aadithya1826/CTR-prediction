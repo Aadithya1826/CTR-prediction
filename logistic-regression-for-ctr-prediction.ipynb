{
 "cells": [
  {
   "cell_type": "code",
   "execution_count": 1,
   "id": "bbdf4dc0",
   "metadata": {
    "_cell_guid": "b1076dfc-b9ad-4769-8c92-a6c4dae69d19",
    "_uuid": "8f2839f25d086af736a60e9eeb907d3b93b6e0e5",
    "execution": {
     "iopub.execute_input": "2024-01-30T10:38:40.763501Z",
     "iopub.status.busy": "2024-01-30T10:38:40.762402Z",
     "iopub.status.idle": "2024-01-30T10:39:00.238734Z",
     "shell.execute_reply": "2024-01-30T10:39:00.237128Z"
    },
    "papermill": {
     "duration": 19.497851,
     "end_time": "2024-01-30T10:39:00.241992",
     "exception": false,
     "start_time": "2024-01-30T10:38:40.744141",
     "status": "completed"
    },
    "tags": []
   },
   "outputs": [],
   "source": [
    "import timeit\n",
    "import numpy as np\n",
    "import pandas as pd\n",
    "import tensorflow as tf\n",
    "import category_encoders as ce\n",
    "import matplotlib.pyplot as plt\n",
    "from sklearn.model_selection import train_test_split, GridSearchCV\n",
    "from sklearn.preprocessing import OneHotEncoder\n",
    "from sklearn.metrics import roc_auc_score, ConfusionMatrixDisplay, classification_report\n",
    "from sklearn.linear_model import SGDClassifier\n",
    "pd.set_option('display.max_columns', None)"
   ]
  },
  {
   "cell_type": "code",
   "execution_count": 2,
   "id": "715a5f4f",
   "metadata": {
    "execution": {
     "iopub.execute_input": "2024-01-30T10:39:00.274108Z",
     "iopub.status.busy": "2024-01-30T10:39:00.272741Z",
     "iopub.status.idle": "2024-01-30T10:39:00.280314Z",
     "shell.execute_reply": "2024-01-30T10:39:00.279474Z"
    },
    "papermill": {
     "duration": 0.026083,
     "end_time": "2024-01-30T10:39:00.282846",
     "exception": false,
     "start_time": "2024-01-30T10:39:00.256763",
     "status": "completed"
    },
    "tags": []
   },
   "outputs": [],
   "source": [
    "def load_data(nrows=100_000):\n",
    "    chunksize = 10 ** 6\n",
    "    filename=\"../input/avazu-ctr-prediction/train.gz\"\n",
    "    chunks = []\n",
    "    with pd.read_csv(filename, chunksize=chunksize, compression='gzip', nrows=nrows) as reader:\n",
    "        for chunk in reader:\n",
    "            chunks.append(chunk)\n",
    "    data = pd.concat(chunks)\n",
    "\n",
    "    return data"
   ]
  },
  {
   "cell_type": "code",
   "execution_count": 3,
   "id": "1c00c6ec",
   "metadata": {
    "execution": {
     "iopub.execute_input": "2024-01-30T10:39:00.313949Z",
     "iopub.status.busy": "2024-01-30T10:39:00.313318Z",
     "iopub.status.idle": "2024-01-30T10:39:00.320196Z",
     "shell.execute_reply": "2024-01-30T10:39:00.319151Z"
    },
    "papermill": {
     "duration": 0.025291,
     "end_time": "2024-01-30T10:39:00.322894",
     "exception": false,
     "start_time": "2024-01-30T10:39:00.297603",
     "status": "completed"
    },
    "tags": []
   },
   "outputs": [],
   "source": [
    "def find_best_estimator(params, clf, X, Y, verbose=0):\n",
    "    grid_search = GridSearchCV(clf, params, n_jobs=-1, cv=3, scoring='roc_auc')\n",
    "    if verbose:\n",
    "        grid_search.fit(X, Y, verbose=100)\n",
    "    else:\n",
    "        grid_search.fit(X, Y)\n",
    "    print(grid_search.best_params_)\n",
    "    return grid_search.best_estimator_"
   ]
  },
  {
   "cell_type": "code",
   "execution_count": 4,
   "id": "3925784f",
   "metadata": {
    "execution": {
     "iopub.execute_input": "2024-01-30T10:39:00.354350Z",
     "iopub.status.busy": "2024-01-30T10:39:00.353910Z",
     "iopub.status.idle": "2024-01-30T10:39:02.103069Z",
     "shell.execute_reply": "2024-01-30T10:39:02.102130Z"
    },
    "papermill": {
     "duration": 1.768512,
     "end_time": "2024-01-30T10:39:02.106179",
     "exception": false,
     "start_time": "2024-01-30T10:39:00.337667",
     "status": "completed"
    },
    "tags": []
   },
   "outputs": [],
   "source": [
    "nrows_data = 300_000\n",
    "data = load_data(nrows=nrows_data)"
   ]
  },
  {
   "cell_type": "code",
   "execution_count": 5,
   "id": "cfa2766e",
   "metadata": {
    "execution": {
     "iopub.execute_input": "2024-01-30T10:39:02.141893Z",
     "iopub.status.busy": "2024-01-30T10:39:02.141430Z",
     "iopub.status.idle": "2024-01-30T10:39:02.180311Z",
     "shell.execute_reply": "2024-01-30T10:39:02.178927Z"
    },
    "papermill": {
     "duration": 0.059925,
     "end_time": "2024-01-30T10:39:02.183267",
     "exception": false,
     "start_time": "2024-01-30T10:39:02.123342",
     "status": "completed"
    },
    "tags": []
   },
   "outputs": [
    {
     "data": {
      "text/html": [
       "<div>\n",
       "<style scoped>\n",
       "    .dataframe tbody tr th:only-of-type {\n",
       "        vertical-align: middle;\n",
       "    }\n",
       "\n",
       "    .dataframe tbody tr th {\n",
       "        vertical-align: top;\n",
       "    }\n",
       "\n",
       "    .dataframe thead th {\n",
       "        text-align: right;\n",
       "    }\n",
       "</style>\n",
       "<table border=\"1\" class=\"dataframe\">\n",
       "  <thead>\n",
       "    <tr style=\"text-align: right;\">\n",
       "      <th></th>\n",
       "      <th>id</th>\n",
       "      <th>click</th>\n",
       "      <th>hour</th>\n",
       "      <th>C1</th>\n",
       "      <th>banner_pos</th>\n",
       "      <th>site_id</th>\n",
       "      <th>site_domain</th>\n",
       "      <th>site_category</th>\n",
       "      <th>app_id</th>\n",
       "      <th>app_domain</th>\n",
       "      <th>app_category</th>\n",
       "      <th>device_id</th>\n",
       "      <th>device_ip</th>\n",
       "      <th>device_model</th>\n",
       "      <th>device_type</th>\n",
       "      <th>device_conn_type</th>\n",
       "      <th>C14</th>\n",
       "      <th>C15</th>\n",
       "      <th>C16</th>\n",
       "      <th>C17</th>\n",
       "      <th>C18</th>\n",
       "      <th>C19</th>\n",
       "      <th>C20</th>\n",
       "      <th>C21</th>\n",
       "    </tr>\n",
       "  </thead>\n",
       "  <tbody>\n",
       "    <tr>\n",
       "      <th>0</th>\n",
       "      <td>1.000009e+18</td>\n",
       "      <td>0</td>\n",
       "      <td>14102100</td>\n",
       "      <td>1005</td>\n",
       "      <td>0</td>\n",
       "      <td>1fbe01fe</td>\n",
       "      <td>f3845767</td>\n",
       "      <td>28905ebd</td>\n",
       "      <td>ecad2386</td>\n",
       "      <td>7801e8d9</td>\n",
       "      <td>07d7df22</td>\n",
       "      <td>a99f214a</td>\n",
       "      <td>ddd2926e</td>\n",
       "      <td>44956a24</td>\n",
       "      <td>1</td>\n",
       "      <td>2</td>\n",
       "      <td>15706</td>\n",
       "      <td>320</td>\n",
       "      <td>50</td>\n",
       "      <td>1722</td>\n",
       "      <td>0</td>\n",
       "      <td>35</td>\n",
       "      <td>-1</td>\n",
       "      <td>79</td>\n",
       "    </tr>\n",
       "    <tr>\n",
       "      <th>1</th>\n",
       "      <td>1.000017e+19</td>\n",
       "      <td>0</td>\n",
       "      <td>14102100</td>\n",
       "      <td>1005</td>\n",
       "      <td>0</td>\n",
       "      <td>1fbe01fe</td>\n",
       "      <td>f3845767</td>\n",
       "      <td>28905ebd</td>\n",
       "      <td>ecad2386</td>\n",
       "      <td>7801e8d9</td>\n",
       "      <td>07d7df22</td>\n",
       "      <td>a99f214a</td>\n",
       "      <td>96809ac8</td>\n",
       "      <td>711ee120</td>\n",
       "      <td>1</td>\n",
       "      <td>0</td>\n",
       "      <td>15704</td>\n",
       "      <td>320</td>\n",
       "      <td>50</td>\n",
       "      <td>1722</td>\n",
       "      <td>0</td>\n",
       "      <td>35</td>\n",
       "      <td>100084</td>\n",
       "      <td>79</td>\n",
       "    </tr>\n",
       "    <tr>\n",
       "      <th>2</th>\n",
       "      <td>1.000037e+19</td>\n",
       "      <td>0</td>\n",
       "      <td>14102100</td>\n",
       "      <td>1005</td>\n",
       "      <td>0</td>\n",
       "      <td>1fbe01fe</td>\n",
       "      <td>f3845767</td>\n",
       "      <td>28905ebd</td>\n",
       "      <td>ecad2386</td>\n",
       "      <td>7801e8d9</td>\n",
       "      <td>07d7df22</td>\n",
       "      <td>a99f214a</td>\n",
       "      <td>b3cf8def</td>\n",
       "      <td>8a4875bd</td>\n",
       "      <td>1</td>\n",
       "      <td>0</td>\n",
       "      <td>15704</td>\n",
       "      <td>320</td>\n",
       "      <td>50</td>\n",
       "      <td>1722</td>\n",
       "      <td>0</td>\n",
       "      <td>35</td>\n",
       "      <td>100084</td>\n",
       "      <td>79</td>\n",
       "    </tr>\n",
       "    <tr>\n",
       "      <th>3</th>\n",
       "      <td>1.000064e+19</td>\n",
       "      <td>0</td>\n",
       "      <td>14102100</td>\n",
       "      <td>1005</td>\n",
       "      <td>0</td>\n",
       "      <td>1fbe01fe</td>\n",
       "      <td>f3845767</td>\n",
       "      <td>28905ebd</td>\n",
       "      <td>ecad2386</td>\n",
       "      <td>7801e8d9</td>\n",
       "      <td>07d7df22</td>\n",
       "      <td>a99f214a</td>\n",
       "      <td>e8275b8f</td>\n",
       "      <td>6332421a</td>\n",
       "      <td>1</td>\n",
       "      <td>0</td>\n",
       "      <td>15706</td>\n",
       "      <td>320</td>\n",
       "      <td>50</td>\n",
       "      <td>1722</td>\n",
       "      <td>0</td>\n",
       "      <td>35</td>\n",
       "      <td>100084</td>\n",
       "      <td>79</td>\n",
       "    </tr>\n",
       "    <tr>\n",
       "      <th>4</th>\n",
       "      <td>1.000068e+19</td>\n",
       "      <td>0</td>\n",
       "      <td>14102100</td>\n",
       "      <td>1005</td>\n",
       "      <td>1</td>\n",
       "      <td>fe8cc448</td>\n",
       "      <td>9166c161</td>\n",
       "      <td>0569f928</td>\n",
       "      <td>ecad2386</td>\n",
       "      <td>7801e8d9</td>\n",
       "      <td>07d7df22</td>\n",
       "      <td>a99f214a</td>\n",
       "      <td>9644d0bf</td>\n",
       "      <td>779d90c2</td>\n",
       "      <td>1</td>\n",
       "      <td>0</td>\n",
       "      <td>18993</td>\n",
       "      <td>320</td>\n",
       "      <td>50</td>\n",
       "      <td>2161</td>\n",
       "      <td>0</td>\n",
       "      <td>35</td>\n",
       "      <td>-1</td>\n",
       "      <td>157</td>\n",
       "    </tr>\n",
       "  </tbody>\n",
       "</table>\n",
       "</div>"
      ],
      "text/plain": [
       "             id  click      hour    C1  banner_pos   site_id site_domain  \\\n",
       "0  1.000009e+18      0  14102100  1005           0  1fbe01fe    f3845767   \n",
       "1  1.000017e+19      0  14102100  1005           0  1fbe01fe    f3845767   \n",
       "2  1.000037e+19      0  14102100  1005           0  1fbe01fe    f3845767   \n",
       "3  1.000064e+19      0  14102100  1005           0  1fbe01fe    f3845767   \n",
       "4  1.000068e+19      0  14102100  1005           1  fe8cc448    9166c161   \n",
       "\n",
       "  site_category    app_id app_domain app_category device_id device_ip  \\\n",
       "0      28905ebd  ecad2386   7801e8d9     07d7df22  a99f214a  ddd2926e   \n",
       "1      28905ebd  ecad2386   7801e8d9     07d7df22  a99f214a  96809ac8   \n",
       "2      28905ebd  ecad2386   7801e8d9     07d7df22  a99f214a  b3cf8def   \n",
       "3      28905ebd  ecad2386   7801e8d9     07d7df22  a99f214a  e8275b8f   \n",
       "4      0569f928  ecad2386   7801e8d9     07d7df22  a99f214a  9644d0bf   \n",
       "\n",
       "  device_model  device_type  device_conn_type    C14  C15  C16   C17  C18  \\\n",
       "0     44956a24            1                 2  15706  320   50  1722    0   \n",
       "1     711ee120            1                 0  15704  320   50  1722    0   \n",
       "2     8a4875bd            1                 0  15704  320   50  1722    0   \n",
       "3     6332421a            1                 0  15706  320   50  1722    0   \n",
       "4     779d90c2            1                 0  18993  320   50  2161    0   \n",
       "\n",
       "   C19     C20  C21  \n",
       "0   35      -1   79  \n",
       "1   35  100084   79  \n",
       "2   35  100084   79  \n",
       "3   35  100084   79  \n",
       "4   35      -1  157  "
      ]
     },
     "execution_count": 5,
     "metadata": {},
     "output_type": "execute_result"
    }
   ],
   "source": [
    "data.head()"
   ]
  },
  {
   "cell_type": "code",
   "execution_count": 6,
   "id": "f26d79f4",
   "metadata": {
    "execution": {
     "iopub.execute_input": "2024-01-30T10:39:02.215423Z",
     "iopub.status.busy": "2024-01-30T10:39:02.214884Z",
     "iopub.status.idle": "2024-01-30T10:39:02.534025Z",
     "shell.execute_reply": "2024-01-30T10:39:02.531964Z"
    },
    "papermill": {
     "duration": 0.33875,
     "end_time": "2024-01-30T10:39:02.537077",
     "exception": false,
     "start_time": "2024-01-30T10:39:02.198327",
     "status": "completed"
    },
    "tags": []
   },
   "outputs": [
    {
     "name": "stdout",
     "output_type": "stream",
     "text": [
      "<class 'pandas.core.frame.DataFrame'>\n",
      "RangeIndex: 300000 entries, 0 to 299999\n",
      "Data columns (total 24 columns):\n",
      " #   Column            Non-Null Count   Dtype  \n",
      "---  ------            --------------   -----  \n",
      " 0   id                300000 non-null  float64\n",
      " 1   click             300000 non-null  int64  \n",
      " 2   hour              300000 non-null  int64  \n",
      " 3   C1                300000 non-null  int64  \n",
      " 4   banner_pos        300000 non-null  int64  \n",
      " 5   site_id           300000 non-null  object \n",
      " 6   site_domain       300000 non-null  object \n",
      " 7   site_category     300000 non-null  object \n",
      " 8   app_id            300000 non-null  object \n",
      " 9   app_domain        300000 non-null  object \n",
      " 10  app_category      300000 non-null  object \n",
      " 11  device_id         300000 non-null  object \n",
      " 12  device_ip         300000 non-null  object \n",
      " 13  device_model      300000 non-null  object \n",
      " 14  device_type       300000 non-null  int64  \n",
      " 15  device_conn_type  300000 non-null  int64  \n",
      " 16  C14               300000 non-null  int64  \n",
      " 17  C15               300000 non-null  int64  \n",
      " 18  C16               300000 non-null  int64  \n",
      " 19  C17               300000 non-null  int64  \n",
      " 20  C18               300000 non-null  int64  \n",
      " 21  C19               300000 non-null  int64  \n",
      " 22  C20               300000 non-null  int64  \n",
      " 23  C21               300000 non-null  int64  \n",
      "dtypes: float64(1), int64(14), object(9)\n",
      "memory usage: 54.9+ MB\n"
     ]
    }
   ],
   "source": [
    "data.info()"
   ]
  },
  {
   "cell_type": "code",
   "execution_count": 7,
   "id": "c07daeba",
   "metadata": {
    "execution": {
     "iopub.execute_input": "2024-01-30T10:39:02.569267Z",
     "iopub.status.busy": "2024-01-30T10:39:02.568839Z",
     "iopub.status.idle": "2024-01-30T10:39:02.803946Z",
     "shell.execute_reply": "2024-01-30T10:39:02.802686Z"
    },
    "papermill": {
     "duration": 0.25509,
     "end_time": "2024-01-30T10:39:02.807110",
     "exception": false,
     "start_time": "2024-01-30T10:39:02.552020",
     "status": "completed"
    },
    "tags": []
   },
   "outputs": [
    {
     "data": {
      "text/html": [
       "<div>\n",
       "<style scoped>\n",
       "    .dataframe tbody tr th:only-of-type {\n",
       "        vertical-align: middle;\n",
       "    }\n",
       "\n",
       "    .dataframe tbody tr th {\n",
       "        vertical-align: top;\n",
       "    }\n",
       "\n",
       "    .dataframe thead th {\n",
       "        text-align: right;\n",
       "    }\n",
       "</style>\n",
       "<table border=\"1\" class=\"dataframe\">\n",
       "  <thead>\n",
       "    <tr style=\"text-align: right;\">\n",
       "      <th></th>\n",
       "      <th>id</th>\n",
       "      <th>click</th>\n",
       "      <th>hour</th>\n",
       "      <th>C1</th>\n",
       "      <th>banner_pos</th>\n",
       "      <th>device_type</th>\n",
       "      <th>device_conn_type</th>\n",
       "      <th>C14</th>\n",
       "      <th>C15</th>\n",
       "      <th>C16</th>\n",
       "      <th>C17</th>\n",
       "      <th>C18</th>\n",
       "      <th>C19</th>\n",
       "      <th>C20</th>\n",
       "      <th>C21</th>\n",
       "    </tr>\n",
       "  </thead>\n",
       "  <tbody>\n",
       "    <tr>\n",
       "      <th>count</th>\n",
       "      <td>3.000000e+05</td>\n",
       "      <td>300000.000000</td>\n",
       "      <td>3.000000e+05</td>\n",
       "      <td>300000.000000</td>\n",
       "      <td>300000.000000</td>\n",
       "      <td>300000.000000</td>\n",
       "      <td>300000.000000</td>\n",
       "      <td>300000.000000</td>\n",
       "      <td>300000.000000</td>\n",
       "      <td>300000.000000</td>\n",
       "      <td>300000.000000</td>\n",
       "      <td>300000.000000</td>\n",
       "      <td>300000.000000</td>\n",
       "      <td>300000.000000</td>\n",
       "      <td>300000.000000</td>\n",
       "    </tr>\n",
       "    <tr>\n",
       "      <th>mean</th>\n",
       "      <td>9.437755e+18</td>\n",
       "      <td>0.170703</td>\n",
       "      <td>1.410210e+07</td>\n",
       "      <td>1005.018653</td>\n",
       "      <td>0.212370</td>\n",
       "      <td>1.040773</td>\n",
       "      <td>0.207820</td>\n",
       "      <td>17953.153303</td>\n",
       "      <td>318.655320</td>\n",
       "      <td>56.938080</td>\n",
       "      <td>1999.884023</td>\n",
       "      <td>0.960367</td>\n",
       "      <td>171.130993</td>\n",
       "      <td>40726.725377</td>\n",
       "      <td>80.463557</td>\n",
       "    </tr>\n",
       "    <tr>\n",
       "      <th>std</th>\n",
       "      <td>5.109816e+18</td>\n",
       "      <td>0.376250</td>\n",
       "      <td>6.918111e-01</td>\n",
       "      <td>0.983261</td>\n",
       "      <td>0.421888</td>\n",
       "      <td>0.522933</td>\n",
       "      <td>0.648361</td>\n",
       "      <td>3282.893095</td>\n",
       "      <td>16.746294</td>\n",
       "      <td>37.113841</td>\n",
       "      <td>405.596819</td>\n",
       "      <td>1.261270</td>\n",
       "      <td>264.898631</td>\n",
       "      <td>49173.267507</td>\n",
       "      <td>43.553295</td>\n",
       "    </tr>\n",
       "    <tr>\n",
       "      <th>min</th>\n",
       "      <td>9.984920e+12</td>\n",
       "      <td>0.000000</td>\n",
       "      <td>1.410210e+07</td>\n",
       "      <td>1001.000000</td>\n",
       "      <td>0.000000</td>\n",
       "      <td>0.000000</td>\n",
       "      <td>0.000000</td>\n",
       "      <td>375.000000</td>\n",
       "      <td>120.000000</td>\n",
       "      <td>20.000000</td>\n",
       "      <td>112.000000</td>\n",
       "      <td>0.000000</td>\n",
       "      <td>33.000000</td>\n",
       "      <td>-1.000000</td>\n",
       "      <td>13.000000</td>\n",
       "    </tr>\n",
       "    <tr>\n",
       "      <th>25%</th>\n",
       "      <td>5.088626e+18</td>\n",
       "      <td>0.000000</td>\n",
       "      <td>1.410210e+07</td>\n",
       "      <td>1005.000000</td>\n",
       "      <td>0.000000</td>\n",
       "      <td>1.000000</td>\n",
       "      <td>0.000000</td>\n",
       "      <td>15705.000000</td>\n",
       "      <td>320.000000</td>\n",
       "      <td>50.000000</td>\n",
       "      <td>1722.000000</td>\n",
       "      <td>0.000000</td>\n",
       "      <td>35.000000</td>\n",
       "      <td>-1.000000</td>\n",
       "      <td>48.000000</td>\n",
       "    </tr>\n",
       "    <tr>\n",
       "      <th>50%</th>\n",
       "      <td>1.026470e+19</td>\n",
       "      <td>0.000000</td>\n",
       "      <td>1.410210e+07</td>\n",
       "      <td>1005.000000</td>\n",
       "      <td>0.000000</td>\n",
       "      <td>1.000000</td>\n",
       "      <td>0.000000</td>\n",
       "      <td>18936.000000</td>\n",
       "      <td>320.000000</td>\n",
       "      <td>50.000000</td>\n",
       "      <td>2039.000000</td>\n",
       "      <td>0.000000</td>\n",
       "      <td>35.000000</td>\n",
       "      <td>-1.000000</td>\n",
       "      <td>79.000000</td>\n",
       "    </tr>\n",
       "    <tr>\n",
       "      <th>75%</th>\n",
       "      <td>1.325013e+19</td>\n",
       "      <td>0.000000</td>\n",
       "      <td>1.410210e+07</td>\n",
       "      <td>1005.000000</td>\n",
       "      <td>0.000000</td>\n",
       "      <td>1.000000</td>\n",
       "      <td>0.000000</td>\n",
       "      <td>20508.000000</td>\n",
       "      <td>320.000000</td>\n",
       "      <td>50.000000</td>\n",
       "      <td>2333.000000</td>\n",
       "      <td>2.000000</td>\n",
       "      <td>171.000000</td>\n",
       "      <td>100083.000000</td>\n",
       "      <td>79.000000</td>\n",
       "    </tr>\n",
       "    <tr>\n",
       "      <th>max</th>\n",
       "      <td>1.844670e+19</td>\n",
       "      <td>1.000000</td>\n",
       "      <td>1.410210e+07</td>\n",
       "      <td>1010.000000</td>\n",
       "      <td>7.000000</td>\n",
       "      <td>5.000000</td>\n",
       "      <td>5.000000</td>\n",
       "      <td>21705.000000</td>\n",
       "      <td>728.000000</td>\n",
       "      <td>480.000000</td>\n",
       "      <td>2497.000000</td>\n",
       "      <td>3.000000</td>\n",
       "      <td>1835.000000</td>\n",
       "      <td>100248.000000</td>\n",
       "      <td>195.000000</td>\n",
       "    </tr>\n",
       "  </tbody>\n",
       "</table>\n",
       "</div>"
      ],
      "text/plain": [
       "                 id          click          hour             C1  \\\n",
       "count  3.000000e+05  300000.000000  3.000000e+05  300000.000000   \n",
       "mean   9.437755e+18       0.170703  1.410210e+07    1005.018653   \n",
       "std    5.109816e+18       0.376250  6.918111e-01       0.983261   \n",
       "min    9.984920e+12       0.000000  1.410210e+07    1001.000000   \n",
       "25%    5.088626e+18       0.000000  1.410210e+07    1005.000000   \n",
       "50%    1.026470e+19       0.000000  1.410210e+07    1005.000000   \n",
       "75%    1.325013e+19       0.000000  1.410210e+07    1005.000000   \n",
       "max    1.844670e+19       1.000000  1.410210e+07    1010.000000   \n",
       "\n",
       "          banner_pos    device_type  device_conn_type            C14  \\\n",
       "count  300000.000000  300000.000000     300000.000000  300000.000000   \n",
       "mean        0.212370       1.040773          0.207820   17953.153303   \n",
       "std         0.421888       0.522933          0.648361    3282.893095   \n",
       "min         0.000000       0.000000          0.000000     375.000000   \n",
       "25%         0.000000       1.000000          0.000000   15705.000000   \n",
       "50%         0.000000       1.000000          0.000000   18936.000000   \n",
       "75%         0.000000       1.000000          0.000000   20508.000000   \n",
       "max         7.000000       5.000000          5.000000   21705.000000   \n",
       "\n",
       "                 C15            C16            C17            C18  \\\n",
       "count  300000.000000  300000.000000  300000.000000  300000.000000   \n",
       "mean      318.655320      56.938080    1999.884023       0.960367   \n",
       "std        16.746294      37.113841     405.596819       1.261270   \n",
       "min       120.000000      20.000000     112.000000       0.000000   \n",
       "25%       320.000000      50.000000    1722.000000       0.000000   \n",
       "50%       320.000000      50.000000    2039.000000       0.000000   \n",
       "75%       320.000000      50.000000    2333.000000       2.000000   \n",
       "max       728.000000     480.000000    2497.000000       3.000000   \n",
       "\n",
       "                 C19            C20            C21  \n",
       "count  300000.000000  300000.000000  300000.000000  \n",
       "mean      171.130993   40726.725377      80.463557  \n",
       "std       264.898631   49173.267507      43.553295  \n",
       "min        33.000000      -1.000000      13.000000  \n",
       "25%        35.000000      -1.000000      48.000000  \n",
       "50%        35.000000      -1.000000      79.000000  \n",
       "75%       171.000000  100083.000000      79.000000  \n",
       "max      1835.000000  100248.000000     195.000000  "
      ]
     },
     "execution_count": 7,
     "metadata": {},
     "output_type": "execute_result"
    }
   ],
   "source": [
    "data.describe()"
   ]
  },
  {
   "cell_type": "code",
   "execution_count": 8,
   "id": "15c0d892",
   "metadata": {
    "execution": {
     "iopub.execute_input": "2024-01-30T10:39:02.857188Z",
     "iopub.status.busy": "2024-01-30T10:39:02.856705Z",
     "iopub.status.idle": "2024-01-30T10:39:02.894128Z",
     "shell.execute_reply": "2024-01-30T10:39:02.892863Z"
    },
    "papermill": {
     "duration": 0.072949,
     "end_time": "2024-01-30T10:39:02.897403",
     "exception": false,
     "start_time": "2024-01-30T10:39:02.824454",
     "status": "completed"
    },
    "tags": []
   },
   "outputs": [],
   "source": [
    "X = data.drop(columns=['id', 'click', 'hour', 'device_id', 'device_ip'])\n",
    "Y = data['click']"
   ]
  },
  {
   "cell_type": "code",
   "execution_count": 9,
   "id": "60daf044",
   "metadata": {
    "execution": {
     "iopub.execute_input": "2024-01-30T10:39:02.931984Z",
     "iopub.status.busy": "2024-01-30T10:39:02.931547Z",
     "iopub.status.idle": "2024-01-30T10:39:03.135755Z",
     "shell.execute_reply": "2024-01-30T10:39:03.134379Z"
    },
    "papermill": {
     "duration": 0.224983,
     "end_time": "2024-01-30T10:39:03.139040",
     "exception": false,
     "start_time": "2024-01-30T10:39:02.914057",
     "status": "completed"
    },
    "tags": []
   },
   "outputs": [],
   "source": [
    "X_train, X_test, Y_train, Y_test = train_test_split(X, Y, test_size=0.1, random_state=42)"
   ]
  },
  {
   "cell_type": "code",
   "execution_count": 10,
   "id": "9ca4f680",
   "metadata": {
    "execution": {
     "iopub.execute_input": "2024-01-30T10:39:03.174764Z",
     "iopub.status.busy": "2024-01-30T10:39:03.174363Z",
     "iopub.status.idle": "2024-01-30T10:39:04.653582Z",
     "shell.execute_reply": "2024-01-30T10:39:04.652447Z"
    },
    "papermill": {
     "duration": 1.50178,
     "end_time": "2024-01-30T10:39:04.657040",
     "exception": false,
     "start_time": "2024-01-30T10:39:03.155260",
     "status": "completed"
    },
    "tags": []
   },
   "outputs": [],
   "source": [
    "enc = OneHotEncoder(handle_unknown='ignore')\n",
    "X_train_enc = enc.fit_transform(X_train)\n",
    "X_test_enc = enc.transform(X_test)"
   ]
  },
  {
   "cell_type": "code",
   "execution_count": 11,
   "id": "e738262f",
   "metadata": {
    "execution": {
     "iopub.execute_input": "2024-01-30T10:39:04.698339Z",
     "iopub.status.busy": "2024-01-30T10:39:04.697803Z",
     "iopub.status.idle": "2024-01-30T10:39:04.703767Z",
     "shell.execute_reply": "2024-01-30T10:39:04.702636Z"
    },
    "papermill": {
     "duration": 0.028825,
     "end_time": "2024-01-30T10:39:04.706841",
     "exception": false,
     "start_time": "2024-01-30T10:39:04.678016",
     "status": "completed"
    },
    "tags": []
   },
   "outputs": [],
   "source": [
    "sgdc_clf = SGDClassifier(loss='log_loss', penalty=None, fit_intercept=True, max_iter=100, learning_rate='constant', eta0=0.01)"
   ]
  },
  {
   "cell_type": "code",
   "execution_count": 12,
   "id": "18b28527",
   "metadata": {
    "execution": {
     "iopub.execute_input": "2024-01-30T10:39:04.844113Z",
     "iopub.status.busy": "2024-01-30T10:39:04.843596Z",
     "iopub.status.idle": "2024-01-30T10:39:06.235418Z",
     "shell.execute_reply": "2024-01-30T10:39:06.234089Z"
    },
    "papermill": {
     "duration": 1.414209,
     "end_time": "2024-01-30T10:39:06.238320",
     "exception": false,
     "start_time": "2024-01-30T10:39:04.824111",
     "status": "completed"
    },
    "tags": []
   },
   "outputs": [
    {
     "name": "stdout",
     "output_type": "stream",
     "text": [
      "Area under curve ROC for testing dataset is: 0.7438816047933191\n"
     ]
    }
   ],
   "source": [
    "sgdc_clf.fit(X_train_enc, Y_train)\n",
    "pos_prob = sgdc_clf.predict_proba(X_test_enc)[:, 1]\n",
    "print(f\"Area under curve ROC for testing dataset is: {roc_auc_score(Y_test, pos_prob)}\")"
   ]
  },
  {
   "cell_type": "code",
   "execution_count": 13,
   "id": "aec144b8",
   "metadata": {
    "execution": {
     "iopub.execute_input": "2024-01-30T10:39:06.273739Z",
     "iopub.status.busy": "2024-01-30T10:39:06.272143Z",
     "iopub.status.idle": "2024-01-30T10:39:06.336320Z",
     "shell.execute_reply": "2024-01-30T10:39:06.334547Z"
    },
    "papermill": {
     "duration": 0.085129,
     "end_time": "2024-01-30T10:39:06.339477",
     "exception": false,
     "start_time": "2024-01-30T10:39:06.254348",
     "status": "completed"
    },
    "tags": []
   },
   "outputs": [
    {
     "name": "stdout",
     "output_type": "stream",
     "text": [
      "              precision    recall  f1-score   support\n",
      "\n",
      "           0       0.85      0.98      0.91     24949\n",
      "           1       0.55      0.14      0.22      5051\n",
      "\n",
      "    accuracy                           0.84     30000\n",
      "   macro avg       0.70      0.56      0.56     30000\n",
      "weighted avg       0.80      0.84      0.79     30000\n",
      "\n"
     ]
    }
   ],
   "source": [
    "print(classification_report(Y_test, sgdc_clf.predict(X_test_enc), target_names=['0', '1']))"
   ]
  },
  {
   "cell_type": "code",
   "execution_count": 14,
   "id": "5271fc98",
   "metadata": {
    "execution": {
     "iopub.execute_input": "2024-01-30T10:39:06.374341Z",
     "iopub.status.busy": "2024-01-30T10:39:06.373303Z",
     "iopub.status.idle": "2024-01-30T10:39:06.769172Z",
     "shell.execute_reply": "2024-01-30T10:39:06.768095Z"
    },
    "papermill": {
     "duration": 0.416841,
     "end_time": "2024-01-30T10:39:06.772562",
     "exception": false,
     "start_time": "2024-01-30T10:39:06.355721",
     "status": "completed"
    },
    "tags": []
   },
   "outputs": [
    {
     "data": {
      "image/png": "[encoded data removed]",
      "text/plain": [
       "<Figure size 640x480 with 2 Axes>"
      ]
     },
     "metadata": {},
     "output_type": "display_data"
    }
   ],
   "source": [
    "ConfusionMatrixDisplay.from_estimator(\n",
    "    sgdc_clf, X_test_enc, Y_test, display_labels=['0', '1'], xticks_rotation=\"vertical\"\n",
    ")\n",
    "plt.tight_layout()\n",
    "plt.show()"
   ]
  },
  {
   "cell_type": "markdown",
   "id": "4f97409e",
   "metadata": {
    "papermill": {
     "duration": 0.017707,
     "end_time": "2024-01-30T10:39:06.808170",
     "exception": false,
     "start_time": "2024-01-30T10:39:06.790463",
     "status": "completed"
    },
    "tags": []
   },
   "source": [
    "Penalty, eta0, alpha"
   ]
  },
  {
   "cell_type": "code",
   "execution_count": 15,
   "id": "9f7b998b",
   "metadata": {
    "execution": {
     "iopub.execute_input": "2024-01-30T10:39:06.846387Z",
     "iopub.status.busy": "2024-01-30T10:39:06.845169Z",
     "iopub.status.idle": "2024-01-30T10:39:06.851434Z",
     "shell.execute_reply": "2024-01-30T10:39:06.850329Z"
    },
    "papermill": {
     "duration": 0.028774,
     "end_time": "2024-01-30T10:39:06.854956",
     "exception": false,
     "start_time": "2024-01-30T10:39:06.826182",
     "status": "completed"
    },
    "tags": []
   },
   "outputs": [],
   "source": [
    "sgdc_params = {'penalty': ['l2', 'l1', 'elasticnet', None],\n",
    "               'eta0': [0.001, 0.01, 1.0],\n",
    "               'alpha': [0.01, 0.1, 1.0]}"
   ]
  },
  {
   "cell_type": "code",
   "execution_count": 16,
   "id": "fa01267d",
   "metadata": {
    "execution": {
     "iopub.execute_input": "2024-01-30T10:39:06.892174Z",
     "iopub.status.busy": "2024-01-30T10:39:06.891722Z",
     "iopub.status.idle": "2024-01-30T10:39:48.544514Z",
     "shell.execute_reply": "2024-01-30T10:39:48.542889Z"
    },
    "papermill": {
     "duration": 41.691794,
     "end_time": "2024-01-30T10:39:48.564148",
     "exception": false,
     "start_time": "2024-01-30T10:39:06.872354",
     "status": "completed"
    },
    "tags": []
   },
   "outputs": [
    {
     "name": "stdout",
     "output_type": "stream",
     "text": [
      "{'alpha': 1.0, 'eta0': 0.01, 'penalty': None}\n"
     ]
    }
   ],
   "source": [
    "grid_search = GridSearchCV(sgdc_clf, sgdc_params, n_jobs=-1, cv=3, scoring='roc_auc')\n",
    "grid_search.fit(X_train_enc, Y_train)\n",
    "print(grid_search.best_params_)\n",
    "sgdc_best = grid_search.best_estimator_"
   ]
  },
  {
   "cell_type": "code",
   "execution_count": 17,
   "id": "c39dfbb7",
   "metadata": {
    "execution": {
     "iopub.execute_input": "2024-01-30T10:39:48.601390Z",
     "iopub.status.busy": "2024-01-30T10:39:48.600972Z",
     "iopub.status.idle": "2024-01-30T10:39:48.622322Z",
     "shell.execute_reply": "2024-01-30T10:39:48.620641Z"
    },
    "papermill": {
     "duration": 0.044085,
     "end_time": "2024-01-30T10:39:48.625342",
     "exception": false,
     "start_time": "2024-01-30T10:39:48.581257",
     "status": "completed"
    },
    "tags": []
   },
   "outputs": [
    {
     "name": "stdout",
     "output_type": "stream",
     "text": [
      "Area under curve ROC for testing dataset is: 0.7452274665659461\n"
     ]
    }
   ],
   "source": [
    "pos_prob = sgdc_best.predict_proba(X_test_enc)[:, 1]\n",
    "print(f\"Area under curve ROC for testing dataset is: {roc_auc_score(Y_test, pos_prob)}\")"
   ]
  },
  {
   "cell_type": "code",
   "execution_count": 18,
   "id": "86524fac",
   "metadata": {
    "execution": {
     "iopub.execute_input": "2024-01-30T10:39:48.659758Z",
     "iopub.status.busy": "2024-01-30T10:39:48.659161Z",
     "iopub.status.idle": "2024-01-30T10:39:48.721140Z",
     "shell.execute_reply": "2024-01-30T10:39:48.719582Z"
    },
    "papermill": {
     "duration": 0.082266,
     "end_time": "2024-01-30T10:39:48.723699",
     "exception": false,
     "start_time": "2024-01-30T10:39:48.641433",
     "status": "completed"
    },
    "tags": []
   },
   "outputs": [
    {
     "name": "stdout",
     "output_type": "stream",
     "text": [
      "              precision    recall  f1-score   support\n",
      "\n",
      "           0       0.84      0.98      0.91     24949\n",
      "           1       0.56      0.11      0.18      5051\n",
      "\n",
      "    accuracy                           0.84     30000\n",
      "   macro avg       0.70      0.55      0.55     30000\n",
      "weighted avg       0.80      0.84      0.79     30000\n",
      "\n"
     ]
    }
   ],
   "source": [
    "print(classification_report(Y_test, sgdc_best.predict(X_test_enc), target_names=['0', '1']))"
   ]
  },
  {
   "cell_type": "code",
   "execution_count": 19,
   "id": "8238e02c",
   "metadata": {
    "execution": {
     "iopub.execute_input": "2024-01-30T10:39:48.759646Z",
     "iopub.status.busy": "2024-01-30T10:39:48.758137Z",
     "iopub.status.idle": "2024-01-30T10:39:49.113941Z",
     "shell.execute_reply": "2024-01-30T10:39:49.112508Z"
    },
    "papermill": {
     "duration": 0.37659,
     "end_time": "2024-01-30T10:39:49.116645",
     "exception": false,
     "start_time": "2024-01-30T10:39:48.740055",
     "status": "completed"
    },
    "tags": []
   },
   "outputs": [
    {
     "data": {
      "image/png": "[encoded data removed]",
      "text/plain": [
       "<Figure size 640x480 with 2 Axes>"
      ]
     },
     "metadata": {},
     "output_type": "display_data"
    }
   ],
   "source": [
    "ConfusionMatrixDisplay.from_estimator(\n",
    "    sgdc_best, X_test_enc, Y_test, display_labels=['0', '1'], xticks_rotation=\"vertical\"\n",
    ")\n",
    "plt.tight_layout()\n",
    "plt.show()"
   ]
  },
  {
   "cell_type": "markdown",
   "id": "ca1e4e58",
   "metadata": {
    "papermill": {
     "duration": 0.016751,
     "end_time": "2024-01-30T10:39:49.150561",
     "exception": false,
     "start_time": "2024-01-30T10:39:49.133810",
     "status": "completed"
    },
    "tags": []
   },
   "source": [
    "# Online learning"
   ]
  },
  {
   "cell_type": "markdown",
   "id": "a58d77a6",
   "metadata": {
    "papermill": {
     "duration": 0.016135,
     "end_time": "2024-01-30T10:39:49.183239",
     "exception": false,
     "start_time": "2024-01-30T10:39:49.167104",
     "status": "completed"
    },
    "tags": []
   },
   "source": [
    "10 000 000 samples"
   ]
  },
  {
   "cell_type": "code",
   "execution_count": 20,
   "id": "d6971a86",
   "metadata": {
    "execution": {
     "iopub.execute_input": "2024-01-30T10:39:49.219368Z",
     "iopub.status.busy": "2024-01-30T10:39:49.218740Z",
     "iopub.status.idle": "2024-01-30T10:40:47.162784Z",
     "shell.execute_reply": "2024-01-30T10:40:47.161326Z"
    },
    "papermill": {
     "duration": 57.965956,
     "end_time": "2024-01-30T10:40:47.166339",
     "exception": false,
     "start_time": "2024-01-30T10:39:49.200383",
     "status": "completed"
    },
    "tags": []
   },
   "outputs": [],
   "source": [
    "big_data = load_data(10_000_000)"
   ]
  },
  {
   "cell_type": "code",
   "execution_count": 21,
   "id": "a70e9c5f",
   "metadata": {
    "execution": {
     "iopub.execute_input": "2024-01-30T10:40:47.206681Z",
     "iopub.status.busy": "2024-01-30T10:40:47.206133Z",
     "iopub.status.idle": "2024-01-30T10:40:47.224899Z",
     "shell.execute_reply": "2024-01-30T10:40:47.223007Z"
    },
    "papermill": {
     "duration": 0.043864,
     "end_time": "2024-01-30T10:40:47.227984",
     "exception": false,
     "start_time": "2024-01-30T10:40:47.184120",
     "status": "completed"
    },
    "tags": []
   },
   "outputs": [
    {
     "name": "stdout",
     "output_type": "stream",
     "text": [
      "<class 'pandas.core.frame.DataFrame'>\n",
      "RangeIndex: 10000000 entries, 0 to 9999999\n",
      "Data columns (total 24 columns):\n",
      " #   Column            Dtype  \n",
      "---  ------            -----  \n",
      " 0   id                float64\n",
      " 1   click             int64  \n",
      " 2   hour              int64  \n",
      " 3   C1                int64  \n",
      " 4   banner_pos        int64  \n",
      " 5   site_id           object \n",
      " 6   site_domain       object \n",
      " 7   site_category     object \n",
      " 8   app_id            object \n",
      " 9   app_domain        object \n",
      " 10  app_category      object \n",
      " 11  device_id         object \n",
      " 12  device_ip         object \n",
      " 13  device_model      object \n",
      " 14  device_type       int64  \n",
      " 15  device_conn_type  int64  \n",
      " 16  C14               int64  \n",
      " 17  C15               int64  \n",
      " 18  C16               int64  \n",
      " 19  C17               int64  \n",
      " 20  C18               int64  \n",
      " 21  C19               int64  \n",
      " 22  C20               int64  \n",
      " 23  C21               int64  \n",
      "dtypes: float64(1), int64(14), object(9)\n",
      "memory usage: 1.8+ GB\n"
     ]
    }
   ],
   "source": [
    "big_data.info()"
   ]
  },
  {
   "cell_type": "code",
   "execution_count": 22,
   "id": "83d88f27",
   "metadata": {
    "execution": {
     "iopub.execute_input": "2024-01-30T10:40:47.264147Z",
     "iopub.status.busy": "2024-01-30T10:40:47.263750Z",
     "iopub.status.idle": "2024-01-30T10:40:48.404415Z",
     "shell.execute_reply": "2024-01-30T10:40:48.403389Z"
    },
    "papermill": {
     "duration": 1.161844,
     "end_time": "2024-01-30T10:40:48.407375",
     "exception": false,
     "start_time": "2024-01-30T10:40:47.245531",
     "status": "completed"
    },
    "tags": []
   },
   "outputs": [],
   "source": [
    "big_X = big_data.drop(columns=['id', 'click', 'hour', 'device_id', 'device_ip'])\n",
    "big_Y = big_data['click']"
   ]
  },
  {
   "cell_type": "code",
   "execution_count": 23,
   "id": "cec9eb41",
   "metadata": {
    "execution": {
     "iopub.execute_input": "2024-01-30T10:40:48.445453Z",
     "iopub.status.busy": "2024-01-30T10:40:48.444935Z",
     "iopub.status.idle": "2024-01-30T10:41:03.259647Z",
     "shell.execute_reply": "2024-01-30T10:41:03.258363Z"
    },
    "papermill": {
     "duration": 14.83702,
     "end_time": "2024-01-30T10:41:03.262787",
     "exception": false,
     "start_time": "2024-01-30T10:40:48.425767",
     "status": "completed"
    },
    "tags": []
   },
   "outputs": [],
   "source": [
    "big_X_train, big_X_test, big_Y_train, big_Y_test = train_test_split(big_X, big_Y, test_size=0.1, random_state=42)"
   ]
  },
  {
   "cell_type": "code",
   "execution_count": 24,
   "id": "3aeabfef",
   "metadata": {
    "execution": {
     "iopub.execute_input": "2024-01-30T10:41:03.298871Z",
     "iopub.status.busy": "2024-01-30T10:41:03.298455Z",
     "iopub.status.idle": "2024-01-30T10:41:12.829647Z",
     "shell.execute_reply": "2024-01-30T10:41:12.828203Z"
    },
    "papermill": {
     "duration": 9.55298,
     "end_time": "2024-01-30T10:41:12.833130",
     "exception": false,
     "start_time": "2024-01-30T10:41:03.280150",
     "status": "completed"
    },
    "tags": []
   },
   "outputs": [
    {
     "data": {
      "text/html": [
       "<style>#sk-container-id-1 {color: black;background-color: white;}#sk-container-id-1 pre{padding: 0;}#sk-container-id-1 div.sk-toggleable {background-color: white;}#sk-container-id-1 label.sk-toggleable__label {cursor: pointer;display: block;width: 100%;margin-bottom: 0;padding: 0.3em;box-sizing: border-box;text-align: center;}#sk-container-id-1 label.sk-toggleable__label-arrow:before {content: \"▸\";float: left;margin-right: 0.25em;color: #696969;}#sk-container-id-1 label.sk-toggleable__label-arrow:hover:before {color: black;}#sk-container-id-1 div.sk-estimator:hover label.sk-toggleable__label-arrow:before {color: black;}#sk-container-id-1 div.sk-toggleable__content {max-height: 0;max-width: 0;overflow: hidden;text-align: left;background-color: #f0f8ff;}#sk-container-id-1 div.sk-toggleable__content pre {margin: 0.2em;color: black;border-radius: 0.25em;background-color: #f0f8ff;}#sk-container-id-1 input.sk-toggleable__control:checked~div.sk-toggleable__content {max-height: 200px;max-width: 100%;overflow: auto;}#sk-container-id-1 input.sk-toggleable__control:checked~label.sk-toggleable__label-arrow:before {content: \"▾\";}#sk-container-id-1 div.sk-estimator input.sk-toggleable__control:checked~label.sk-toggleable__label {background-color: #d4ebff;}#sk-container-id-1 div.sk-label input.sk-toggleable__control:checked~label.sk-toggleable__label {background-color: #d4ebff;}#sk-container-id-1 input.sk-hidden--visually {border: 0;clip: rect(1px 1px 1px 1px);clip: rect(1px, 1px, 1px, 1px);height: 1px;margin: -1px;overflow: hidden;padding: 0;position: absolute;width: 1px;}#sk-container-id-1 div.sk-estimator {font-family: monospace;background-color: #f0f8ff;border: 1px dotted black;border-radius: 0.25em;box-sizing: border-box;margin-bottom: 0.5em;}#sk-container-id-1 div.sk-estimator:hover {background-color: #d4ebff;}#sk-container-id-1 div.sk-parallel-item::after {content: \"\";width: 100%;border-bottom: 1px solid gray;flex-grow: 1;}#sk-container-id-1 div.sk-label:hover label.sk-toggleable__label {background-color: #d4ebff;}#sk-container-id-1 div.sk-serial::before {content: \"\";position: absolute;border-left: 1px solid gray;box-sizing: border-box;top: 0;bottom: 0;left: 50%;z-index: 0;}#sk-container-id-1 div.sk-serial {display: flex;flex-direction: column;align-items: center;background-color: white;padding-right: 0.2em;padding-left: 0.2em;position: relative;}#sk-container-id-1 div.sk-item {position: relative;z-index: 1;}#sk-container-id-1 div.sk-parallel {display: flex;align-items: stretch;justify-content: center;background-color: white;position: relative;}#sk-container-id-1 div.sk-item::before, #sk-container-id-1 div.sk-parallel-item::before {content: \"\";position: absolute;border-left: 1px solid gray;box-sizing: border-box;top: 0;bottom: 0;left: 50%;z-index: -1;}#sk-container-id-1 div.sk-parallel-item {display: flex;flex-direction: column;z-index: 1;position: relative;background-color: white;}#sk-container-id-1 div.sk-parallel-item:first-child::after {align-self: flex-end;width: 50%;}#sk-container-id-1 div.sk-parallel-item:last-child::after {align-self: flex-start;width: 50%;}#sk-container-id-1 div.sk-parallel-item:only-child::after {width: 0;}#sk-container-id-1 div.sk-dashed-wrapped {border: 1px dashed gray;margin: 0 0.4em 0.5em 0.4em;box-sizing: border-box;padding-bottom: 0.4em;background-color: white;}#sk-container-id-1 div.sk-label label {font-family: monospace;font-weight: bold;display: inline-block;line-height: 1.2em;}#sk-container-id-1 div.sk-label-container {text-align: center;}#sk-container-id-1 div.sk-container {/* jupyter's `normalize.less` sets `[hidden] { display: none; }` but bootstrap.min.css set `[hidden] { display: none !important; }` so we also need the `!important` here to be able to override the default hidden behavior on the sphinx rendered scikit-learn.org. See: https://github.com/scikit-learn/scikit-learn/issues/21755 */display: inline-block !important;position: relative;}#sk-container-id-1 div.sk-text-repr-fallback {display: none;}</style><div id=\"sk-container-id-1\" class=\"sk-top-container\"><div class=\"sk-text-repr-fallback\"><pre>OneHotEncoder(handle_unknown=&#x27;ignore&#x27;)</pre><b>In a Jupyter environment, please rerun this cell to show the HTML representation or trust the notebook. <br />On GitHub, the HTML representation is unable to render, please try loading this page with nbviewer.org.</b></div><div class=\"sk-container\" hidden><div class=\"sk-item\"><div class=\"sk-estimator sk-toggleable\"><input class=\"sk-toggleable__control sk-hidden--visually\" id=\"sk-estimator-id-1\" type=\"checkbox\" checked><label for=\"sk-estimator-id-1\" class=\"sk-toggleable__label sk-toggleable__label-arrow\">OneHotEncoder</label><div class=\"sk-toggleable__content\"><pre>OneHotEncoder(handle_unknown=&#x27;ignore&#x27;)</pre></div></div></div></div></div>"
      ],
      "text/plain": [
       "OneHotEncoder(handle_unknown='ignore')"
      ]
     },
     "execution_count": 24,
     "metadata": {},
     "output_type": "execute_result"
    }
   ],
   "source": [
    "big_enc = OneHotEncoder(handle_unknown='ignore')\n",
    "big_enc.fit(big_X_train)"
   ]
  },
  {
   "cell_type": "code",
   "execution_count": 25,
   "id": "ed287c49",
   "metadata": {
    "execution": {
     "iopub.execute_input": "2024-01-30T10:41:12.873180Z",
     "iopub.status.busy": "2024-01-30T10:41:12.872741Z",
     "iopub.status.idle": "2024-01-30T10:41:12.879138Z",
     "shell.execute_reply": "2024-01-30T10:41:12.877760Z"
    },
    "papermill": {
     "duration": 0.029522,
     "end_time": "2024-01-30T10:41:12.882102",
     "exception": false,
     "start_time": "2024-01-30T10:41:12.852580",
     "status": "completed"
    },
    "tags": []
   },
   "outputs": [],
   "source": [
    "sgdc_lr_online = SGDClassifier(\n",
    "    loss='log_loss',\n",
    "    fit_intercept=True,\n",
    "    max_iter=100,\n",
    "    learning_rate='constant',\n",
    "    **grid_search.best_params_)"
   ]
  },
  {
   "cell_type": "code",
   "execution_count": 26,
   "id": "f7149983",
   "metadata": {
    "execution": {
     "iopub.execute_input": "2024-01-30T10:41:12.923237Z",
     "iopub.status.busy": "2024-01-30T10:41:12.922789Z",
     "iopub.status.idle": "2024-01-30T10:41:56.438473Z",
     "shell.execute_reply": "2024-01-30T10:41:56.436754Z"
    },
    "papermill": {
     "duration": 43.558464,
     "end_time": "2024-01-30T10:41:56.459756",
     "exception": false,
     "start_time": "2024-01-30T10:41:12.901292",
     "status": "completed"
    },
    "tags": []
   },
   "outputs": [
    {
     "name": "stdout",
     "output_type": "stream",
     "text": [
      "43.50693714500005\n"
     ]
    }
   ],
   "source": [
    "start_time = timeit.default_timer()\n",
    "for i in range(9):\n",
    "    x_train = big_X_train[i*1_000_000:(i+1)*1_000_000]\n",
    "    y_train = big_Y_train[i*1_000_000:(i+1)*1_000_000]    \n",
    "    x_train_enc = big_enc.transform(x_train)\n",
    "    sgdc_lr_online.partial_fit(x_train_enc, y_train, classes=[0,1])\n",
    "print(timeit.default_timer()-start_time)"
   ]
  },
  {
   "cell_type": "code",
   "execution_count": 27,
   "id": "f1d4d50c",
   "metadata": {
    "execution": {
     "iopub.execute_input": "2024-01-30T10:41:56.498334Z",
     "iopub.status.busy": "2024-01-30T10:41:56.497910Z",
     "iopub.status.idle": "2024-01-30T10:42:03.558461Z",
     "shell.execute_reply": "2024-01-30T10:42:03.556747Z"
    },
    "papermill": {
     "duration": 7.083614,
     "end_time": "2024-01-30T10:42:03.561207",
     "exception": false,
     "start_time": "2024-01-30T10:41:56.477593",
     "status": "completed"
    },
    "tags": []
   },
   "outputs": [
    {
     "name": "stdout",
     "output_type": "stream",
     "text": [
      "Area under curve ROC for testing dataset is: 0.7444742988408408\n"
     ]
    }
   ],
   "source": [
    "big_pos_prob = sgdc_lr_online.predict_proba(big_enc.transform(big_X_test))[:, 1]\n",
    "print(f\"Area under curve ROC for testing dataset is: {roc_auc_score(big_Y_test, big_pos_prob)}\")"
   ]
  },
  {
   "cell_type": "markdown",
   "id": "073a1e28",
   "metadata": {
    "papermill": {
     "duration": 0.017524,
     "end_time": "2024-01-30T10:42:03.596619",
     "exception": false,
     "start_time": "2024-01-30T10:42:03.579095",
     "status": "completed"
    },
    "tags": []
   },
   "source": [
    "If we want to work still in the same notebook, we must clear memmory. Otherwise \"Your notebook tried to allocate more memory than is available. It has restarted.\" message will occour"
   ]
  },
  {
   "cell_type": "code",
   "execution_count": 28,
   "id": "d5deae80",
   "metadata": {
    "execution": {
     "iopub.execute_input": "2024-01-30T10:42:03.633539Z",
     "iopub.status.busy": "2024-01-30T10:42:03.632998Z",
     "iopub.status.idle": "2024-01-30T10:42:04.434862Z",
     "shell.execute_reply": "2024-01-30T10:42:04.433771Z"
    },
    "papermill": {
     "duration": 0.824231,
     "end_time": "2024-01-30T10:42:04.438146",
     "exception": false,
     "start_time": "2024-01-30T10:42:03.613915",
     "status": "completed"
    },
    "tags": []
   },
   "outputs": [],
   "source": [
    "big_data = big_data.iloc[0:0]\n",
    "big_X, big_Y = big_data.iloc[0:0], big_data.iloc[0:0]\n",
    "big_X_train, big_X_test, big_Y_train, big_Y_test = big_data.iloc[0:0], big_data.iloc[0:0], big_data.iloc[0:0], big_data.iloc[0:0]\n",
    "x_train, y_train, x_train_enc = big_data.iloc[0:0], big_data.iloc[0:0], big_data.iloc[0:0]"
   ]
  },
  {
   "cell_type": "markdown",
   "id": "c346748b",
   "metadata": {
    "papermill": {
     "duration": 0.01854,
     "end_time": "2024-01-30T10:42:04.475396",
     "exception": false,
     "start_time": "2024-01-30T10:42:04.456856",
     "status": "completed"
    },
    "tags": []
   },
   "source": [
    "# Logistic Regression with TensorFlow"
   ]
  },
  {
   "cell_type": "code",
   "execution_count": 29,
   "id": "95a2d7d7",
   "metadata": {
    "execution": {
     "iopub.execute_input": "2024-01-30T10:42:04.514138Z",
     "iopub.status.busy": "2024-01-30T10:42:04.513665Z",
     "iopub.status.idle": "2024-01-30T10:42:04.521920Z",
     "shell.execute_reply": "2024-01-30T10:42:04.520591Z"
    },
    "papermill": {
     "duration": 0.030979,
     "end_time": "2024-01-30T10:42:04.524592",
     "exception": false,
     "start_time": "2024-01-30T10:42:04.493613",
     "status": "completed"
    },
    "tags": []
   },
   "outputs": [
    {
     "data": {
      "text/plain": [
       "(270000, 8385)"
      ]
     },
     "execution_count": 29,
     "metadata": {},
     "output_type": "execute_result"
    }
   ],
   "source": [
    "X_train_enc.shape "
   ]
  },
  {
   "cell_type": "code",
   "execution_count": 30,
   "id": "cc4e709c",
   "metadata": {
    "execution": {
     "iopub.execute_input": "2024-01-30T10:42:04.563321Z",
     "iopub.status.busy": "2024-01-30T10:42:04.562871Z",
     "iopub.status.idle": "2024-01-30T10:42:04.767709Z",
     "shell.execute_reply": "2024-01-30T10:42:04.766479Z"
    },
    "papermill": {
     "duration": 0.227964,
     "end_time": "2024-01-30T10:42:04.770655",
     "exception": false,
     "start_time": "2024-01-30T10:42:04.542691",
     "status": "completed"
    },
    "tags": []
   },
   "outputs": [
    {
     "data": {
      "text/plain": [
       "C1                     6\n",
       "banner_pos             6\n",
       "site_id             1422\n",
       "site_domain         1298\n",
       "site_category         21\n",
       "app_id              1211\n",
       "app_domain            84\n",
       "app_category          19\n",
       "device_model        3423\n",
       "device_type            4\n",
       "device_conn_type       4\n",
       "C14                  503\n",
       "C15                    5\n",
       "C16                    6\n",
       "C17                  146\n",
       "C18                    4\n",
       "C19                   40\n",
       "C20                  150\n",
       "C21                   33\n",
       "dtype: int64"
      ]
     },
     "execution_count": 30,
     "metadata": {},
     "output_type": "execute_result"
    }
   ],
   "source": [
    "X_train.nunique()"
   ]
  },
  {
   "cell_type": "markdown",
   "id": "8f9da066",
   "metadata": {
    "papermill": {
     "duration": 0.018018,
     "end_time": "2024-01-30T10:42:04.807956",
     "exception": false,
     "start_time": "2024-01-30T10:42:04.789938",
     "status": "completed"
    },
    "tags": []
   },
   "source": [
    "While shape of X_train_enc is 270_000 x 8385 we can't use .toarray() method and than .astype('float32'), because new array would take 270_000 * 8385 * 4 = 9_055_800_000 bytes (it's **8,43387 Gigabytes**). To reduce number of features we are going to use **target encoder**."
   ]
  },
  {
   "cell_type": "markdown",
   "id": "8c91b7d4",
   "metadata": {
    "papermill": {
     "duration": 0.018083,
     "end_time": "2024-01-30T10:42:04.844942",
     "exception": false,
     "start_time": "2024-01-30T10:42:04.826859",
     "status": "completed"
    },
    "tags": []
   },
   "source": [
    "## Feature encoding"
   ]
  },
  {
   "cell_type": "code",
   "execution_count": 31,
   "id": "8ec4074c",
   "metadata": {
    "execution": {
     "iopub.execute_input": "2024-01-30T10:42:04.883572Z",
     "iopub.status.busy": "2024-01-30T10:42:04.883093Z",
     "iopub.status.idle": "2024-01-30T10:42:07.954832Z",
     "shell.execute_reply": "2024-01-30T10:42:07.953295Z"
    },
    "papermill": {
     "duration": 3.094973,
     "end_time": "2024-01-30T10:42:07.958160",
     "exception": false,
     "start_time": "2024-01-30T10:42:04.863187",
     "status": "completed"
    },
    "tags": []
   },
   "outputs": [],
   "source": [
    "t_enc = ce.TargetEncoder(min_samples_leaf=20, smoothing=10)\n",
    "tf_X_train = t_enc.fit_transform(X_train, Y_train)\n",
    "tf_X_test = t_enc.transform(X_test)"
   ]
  },
  {
   "cell_type": "code",
   "execution_count": 32,
   "id": "de85aba2",
   "metadata": {
    "execution": {
     "iopub.execute_input": "2024-01-30T10:42:07.996047Z",
     "iopub.status.busy": "2024-01-30T10:42:07.995549Z",
     "iopub.status.idle": "2024-01-30T10:42:08.236106Z",
     "shell.execute_reply": "2024-01-30T10:42:08.234597Z"
    },
    "papermill": {
     "duration": 0.263414,
     "end_time": "2024-01-30T10:42:08.239516",
     "exception": false,
     "start_time": "2024-01-30T10:42:07.976102",
     "status": "completed"
    },
    "tags": []
   },
   "outputs": [],
   "source": [
    "batch_size=1000\n",
    "train_data = tf.data.Dataset.from_tensor_slices((tf_X_train, Y_train))\n",
    "train_data = train_data.repeat().shuffle(5000).batch(batch_size).prefetch(1)"
   ]
  },
  {
   "cell_type": "code",
   "execution_count": 33,
   "id": "078a625f",
   "metadata": {
    "execution": {
     "iopub.execute_input": "2024-01-30T10:42:08.279338Z",
     "iopub.status.busy": "2024-01-30T10:42:08.278801Z",
     "iopub.status.idle": "2024-01-30T10:42:08.451533Z",
     "shell.execute_reply": "2024-01-30T10:42:08.449040Z"
    },
    "papermill": {
     "duration": 0.196182,
     "end_time": "2024-01-30T10:42:08.454750",
     "exception": false,
     "start_time": "2024-01-30T10:42:08.258568",
     "status": "completed"
    },
    "tags": []
   },
   "outputs": [
    {
     "name": "stdout",
     "output_type": "stream",
     "text": [
      "First Training Data:\n",
      "[[ 1.00500000e+03  0.00000000e+00  4.46874173e-01 ...  3.90000000e+01\n",
      "  -1.00000000e+00  1.57000000e+02]\n",
      " [ 1.00500000e+03  0.00000000e+00  2.07976691e-01 ...  3.50000000e+01\n",
      "   1.00084000e+05  7.90000000e+01]\n",
      " [ 1.00500000e+03  1.00000000e+00  4.46874173e-01 ...  1.06300000e+03\n",
      "  -1.00000000e+00  3.30000000e+01]\n",
      " ...\n",
      " [ 1.00500000e+03  0.00000000e+00  4.78748998e-01 ...  3.90000000e+01\n",
      "   1.00084000e+05  3.30000000e+01]\n",
      " [ 1.00500000e+03  0.00000000e+00  9.42540394e-02 ...  5.47000000e+02\n",
      "  -1.00000000e+00  5.10000000e+01]\n",
      " [ 1.00500000e+03  0.00000000e+00  2.07976691e-01 ...  3.50000000e+01\n",
      "  -1.00000000e+00  7.90000000e+01]]\n",
      "Labels:\n",
      "[1 0 1 1 0 0 0 0 0 0 1 0 1 0 0 0 0 0 0 0 0 0 0 0 1 0 0 0 0 1 1 0 0 0 0 1 0\n",
      " 0 0 0 1 0 0 0 0 0 0 0 1 0 0 0 0 0 0 1 0 0 0 0 0 0 0 1 0 0 0 0 0 0 0 0 0 1\n",
      " 0 0 0 0 0 0 1 1 0 0 0 1 0 0 0 1 1 0 0 0 0 0 0 0 0 0 0 0 1 0 0 0 0 0 0 1 0\n",
      " 0 0 0 0 0 0 0 0 0 0 0 0 0 0 0 0 0 0 0 1 0 0 1 0 0 0 1 0 1 0 0 0 0 0 0 0 0\n",
      " 0 0 1 1 0 0 0 0 1 1 0 0 0 0 0 1 0 0 0 0 0 0 0 0 0 0 0 0 1 0 1 0 0 1 0 0 0\n",
      " 0 0 0 1 0 0 1 0 0 1 0 0 0 0 0 0 0 0 0 0 0 0 0 1 1 0 1 0 0 0 0 0 1 0 0 0 0\n",
      " 0 1 0 0 0 0 0 0 1 0 1 0 1 0 0 1 0 1 0 1 0 1 0 0 0 1 0 0 0 0 0 0 0 0 1 0 0\n",
      " 1 0 0 0 0 0 1 0 0 0 0 0 1 0 0 0 1 0 0 0 0 0 0 0 0 0 1 0 0 0 0 1 0 0 0 1 0\n",
      " 0 0 0 1 0 0 0 0 0 0 0 0 0 0 0 0 0 0 0 0 0 0 1 1 0 0 0 0 0 0 0 0 0 0 0 0 0\n",
      " 0 0 0 0 0 0 0 0 1 0 0 0 0 1 0 0 0 0 0 1 0 1 0 0 0 0 0 1 0 0 0 0 0 0 0 1 0\n",
      " 0 0 0 0 0 1 1 1 0 0 0 0 0 0 0 0 0 0 0 1 0 0 0 0 0 0 0 0 0 0 1 0 0 0 0 0 0\n",
      " 0 0 0 1 0 0 0 0 1 0 0 1 0 0 0 0 0 1 0 0 0 0 0 1 0 1 0 0 0 0 0 0 0 1 0 0 0\n",
      " 0 0 0 0 0 0 0 0 0 1 1 0 1 0 0 1 0 0 0 1 1 0 1 0 1 1 0 0 0 0 0 0 0 0 0 0 0\n",
      " 0 0 0 0 0 0 0 0 0 0 0 0 0 0 0 0 0 0 0 0 0 0 0 0 0 0 0 1 0 0 0 0 0 1 0 0 0\n",
      " 0 0 0 0 1 0 0 0 0 0 0 0 0 0 0 0 0 0 0 0 0 0 1 0 0 0 0 0 0 0 0 0 0 0 0 0 0\n",
      " 0 0 0 0 0 0 0 0 0 0 0 1 0 0 0 1 0 1 1 0 0 0 0 0 0 0 0 0 0 1 0 0 0 0 0 1 0\n",
      " 1 0 0 0 0 0 0 0 0 0 0 0 0 0 0 1 0 1 0 1 1 0 0 0 0 0 1 0 0 0 1 0 0 0 0 0 1\n",
      " 0 0 0 1 0 0 0 0 0 0 0 0 0 0 0 0 0 1 0 0 0 0 0 0 1 0 0 0 0 0 0 0 0 0 0 0 0\n",
      " 0 1 0 0 0 0 0 0 0 0 0 0 0 0 1 0 0 0 0 0 0 0 0 0 1 0 1 0 0 1 0 0 1 0 0 0 0\n",
      " 0 0 0 0 0 0 1 1 0 1 0 0 0 0 0 0 0 0 0 1 0 0 1 0 0 0 0 0 0 1 0 0 0 1 0 0 0\n",
      " 0 0 0 0 0 0 0 0 0 0 0 0 0 0 0 0 0 0 0 1 0 0 0 0 0 0 0 0 0 0 0 1 1 0 0 0 0\n",
      " 0 0 0 0 1 0 1 0 0 1 0 1 0 0 0 1 1 0 0 0 0 0 0 0 1 0 0 0 0 0 0 0 0 0 0 1 0\n",
      " 0 0 1 0 1 0 0 0 0 0 0 1 0 0 0 0 0 0 0 0 0 0 0 0 0 0 0 0 0 0 0 0 0 0 1 0 0\n",
      " 0 0 0 0 0 0 0 0 0 0 0 0 0 0 0 0 0 0 0 0 1 1 0 0 0 0 0 0 0 0 0 0 0 0 1 1 0\n",
      " 0 0 0 1 0 0 0 0 0 0 0 1 0 0 0 0 0 0 0 0 0 0 0 0 0 0 0 0 1 1 0 0 1 0 0 0 1\n",
      " 0 0 0 0 1 0 0 0 0 0 0 0 0 0 0 1 0 0 0 0 0 0 1 0 0 0 0 0 0 0 0 0 0 0 0 0 0\n",
      " 0 0 0 0 0 0 0 0 0 0 0 1 0 0 0 1 0 0 1 0 1 0 0 1 0 0 0 0 0 0 0 0 0 0 0 0 0\n",
      " 0]\n"
     ]
    }
   ],
   "source": [
    "# Extract the first batch\n",
    "for features, labels in train_data.take(1):\n",
    "    print(\"First Training Data:\")\n",
    "    print(features.numpy())\n",
    "    print(\"Labels:\")\n",
    "    print(labels.numpy())"
   ]
  },
  {
   "cell_type": "code",
   "execution_count": 34,
   "id": "ceac69f5",
   "metadata": {
    "execution": {
     "iopub.execute_input": "2024-01-30T10:42:08.497440Z",
     "iopub.status.busy": "2024-01-30T10:42:08.496036Z",
     "iopub.status.idle": "2024-01-30T10:42:08.518882Z",
     "shell.execute_reply": "2024-01-30T10:42:08.517713Z"
    },
    "papermill": {
     "duration": 0.048552,
     "end_time": "2024-01-30T10:42:08.522097",
     "exception": false,
     "start_time": "2024-01-30T10:42:08.473545",
     "status": "completed"
    },
    "tags": []
   },
   "outputs": [],
   "source": [
    "n_features = X_train.shape[1]\n",
    "W = tf.Variable(tf.zeros([n_features, 1]))\n",
    "b = tf.Variable(tf.zeros([1]))"
   ]
  },
  {
   "cell_type": "code",
   "execution_count": 35,
   "id": "5a0a4659",
   "metadata": {
    "execution": {
     "iopub.execute_input": "2024-01-30T10:42:08.561382Z",
     "iopub.status.busy": "2024-01-30T10:42:08.560928Z",
     "iopub.status.idle": "2024-01-30T10:42:08.710196Z",
     "shell.execute_reply": "2024-01-30T10:42:08.708950Z"
    },
    "papermill": {
     "duration": 0.172503,
     "end_time": "2024-01-30T10:42:08.713422",
     "exception": false,
     "start_time": "2024-01-30T10:42:08.540919",
     "status": "completed"
    },
    "tags": []
   },
   "outputs": [],
   "source": [
    "learning_rate = 0.00005\n",
    "optimizer = tf._optimizers.Adam(learning_rate)"
   ]
  },
  {
   "cell_type": "code",
   "execution_count": 36,
   "id": "b6867bff",
   "metadata": {
    "execution": {
     "iopub.execute_input": "2024-01-30T10:42:08.754486Z",
     "iopub.status.busy": "2024-01-30T10:42:08.754063Z",
     "iopub.status.idle": "2024-01-30T10:42:08.761869Z",
     "shell.execute_reply": "2024-01-30T10:42:08.760580Z"
    },
    "papermill": {
     "duration": 0.031177,
     "end_time": "2024-01-30T10:42:08.764426",
     "exception": false,
     "start_time": "2024-01-30T10:42:08.733249",
     "status": "completed"
    },
    "tags": []
   },
   "outputs": [],
   "source": [
    "def run_optimization(x, y):\n",
    "    with tf.GradientTape() as g:\n",
    "        logits = tf.add(tf.matmul(x, W), b)[:, 0]\n",
    "        cost = tf.reduce_mean(tf.nn.sigmoid_cross_entropy_with_logits(labels=y, logits=logits))\n",
    "        gradients = g.gradient(cost, [W, b])\n",
    "        optimizer.apply_gradients(zip(gradients, [W, b]))"
   ]
  },
  {
   "cell_type": "markdown",
   "id": "57110e31",
   "metadata": {
    "papermill": {
     "duration": 0.018649,
     "end_time": "2024-01-30T10:42:08.801565",
     "exception": false,
     "start_time": "2024-01-30T10:42:08.782916",
     "status": "completed"
    },
    "tags": []
   },
   "source": [
    "## Training"
   ]
  },
  {
   "cell_type": "code",
   "execution_count": 37,
   "id": "0d5001ed",
   "metadata": {
    "execution": {
     "iopub.execute_input": "2024-01-30T10:42:08.841988Z",
     "iopub.status.busy": "2024-01-30T10:42:08.840744Z",
     "iopub.status.idle": "2024-01-30T10:46:07.800032Z",
     "shell.execute_reply": "2024-01-30T10:46:07.798469Z"
    },
    "papermill": {
     "duration": 239.004935,
     "end_time": "2024-01-30T10:46:07.825390",
     "exception": false,
     "start_time": "2024-01-30T10:42:08.820455",
     "status": "completed"
    },
    "tags": []
   },
   "outputs": [
    {
     "name": "stdout",
     "output_type": "stream",
     "text": [
      "Steps: 500, loss: 0.452615\n",
      "Steps: 1000, loss: 0.466919\n",
      "Steps: 1500, loss: 0.428610\n",
      "Steps: 2000, loss: 0.464151\n",
      "Steps: 2500, loss: 0.474873\n",
      "Steps: 3000, loss: 0.430784\n",
      "Steps: 3500, loss: 0.477521\n",
      "Steps: 4000, loss: 0.435375\n",
      "Steps: 4500, loss: 0.459794\n",
      "Steps: 5000, loss: 0.425224\n",
      "Steps: 5500, loss: 0.419596\n",
      "Steps: 6000, loss: 0.438682\n",
      "Steps: 6500, loss: 0.429852\n",
      "Steps: 7000, loss: 0.451658\n",
      "Steps: 7500, loss: 0.399387\n",
      "Steps: 8000, loss: 0.431556\n",
      "Steps: 8500, loss: 0.455712\n",
      "Steps: 9000, loss: 0.440445\n",
      "Steps: 9500, loss: 0.432854\n",
      "Steps: 10000, loss: 0.411001\n",
      "Steps: 10500, loss: 0.448311\n",
      "Steps: 11000, loss: 0.440960\n",
      "Steps: 11500, loss: 0.427842\n",
      "Steps: 12000, loss: 0.445926\n",
      "Steps: 12500, loss: 0.435951\n",
      "Steps: 13000, loss: 0.423605\n",
      "Steps: 13500, loss: 0.411146\n",
      "Steps: 14000, loss: 0.456291\n",
      "Steps: 14500, loss: 0.444645\n",
      "Steps: 15000, loss: 0.434430\n",
      "Steps: 15500, loss: 0.426672\n",
      "Steps: 16000, loss: 0.426856\n",
      "Steps: 16500, loss: 0.428912\n",
      "Steps: 17000, loss: 0.446201\n",
      "Steps: 17500, loss: 0.440133\n",
      "Steps: 18000, loss: 0.421114\n",
      "Steps: 18500, loss: 0.421569\n",
      "Steps: 19000, loss: 0.448736\n",
      "Steps: 19500, loss: 0.432258\n",
      "Steps: 20000, loss: 0.444031\n"
     ]
    }
   ],
   "source": [
    "training_steps = 20_000\n",
    "for step, (batch_x, batch_y) in enumerate(train_data.take(training_steps), 1):\n",
    "    batch_x = tf.cast(batch_x, dtype=tf.float32)\n",
    "    batch_y = tf.cast(batch_y, dtype=tf.float32)\n",
    "    run_optimization(batch_x, batch_y)\n",
    "    if step % 500 == 0:\n",
    "        logits = tf.add(tf.matmul(batch_x, W), b)[:, 0]\n",
    "        loss = tf.reduce_mean(tf.nn.sigmoid_cross_entropy_with_logits(labels=batch_y, logits=logits))\n",
    "        print(\"Steps: %i, loss: %f\" % (step, loss))"
   ]
  },
  {
   "cell_type": "markdown",
   "id": "3bbf998f",
   "metadata": {
    "papermill": {
     "duration": 0.021927,
     "end_time": "2024-01-30T10:46:07.870562",
     "exception": false,
     "start_time": "2024-01-30T10:46:07.848635",
     "status": "completed"
    },
    "tags": []
   },
   "source": [
    "## Testing"
   ]
  },
  {
   "cell_type": "code",
   "execution_count": 38,
   "id": "6ef8743a",
   "metadata": {
    "execution": {
     "iopub.execute_input": "2024-01-30T10:46:07.919244Z",
     "iopub.status.busy": "2024-01-30T10:46:07.918746Z",
     "iopub.status.idle": "2024-01-30T10:46:07.932579Z",
     "shell.execute_reply": "2024-01-30T10:46:07.931210Z"
    },
    "papermill": {
     "duration": 0.041909,
     "end_time": "2024-01-30T10:46:07.935810",
     "exception": false,
     "start_time": "2024-01-30T10:46:07.893901",
     "status": "completed"
    },
    "tags": []
   },
   "outputs": [],
   "source": [
    "tf_X_test = tf.cast(tf_X_test, dtype=tf.float32)"
   ]
  },
  {
   "cell_type": "code",
   "execution_count": 39,
   "id": "0caa0289",
   "metadata": {
    "execution": {
     "iopub.execute_input": "2024-01-30T10:46:07.983628Z",
     "iopub.status.busy": "2024-01-30T10:46:07.982640Z",
     "iopub.status.idle": "2024-01-30T10:46:08.065724Z",
     "shell.execute_reply": "2024-01-30T10:46:08.064322Z"
    },
    "papermill": {
     "duration": 0.110392,
     "end_time": "2024-01-30T10:46:08.068701",
     "exception": false,
     "start_time": "2024-01-30T10:46:07.958309",
     "status": "completed"
    },
    "tags": []
   },
   "outputs": [
    {
     "name": "stdout",
     "output_type": "stream",
     "text": [
      "Area under curve ROC for testing dataset is: 0.671\n"
     ]
    }
   ],
   "source": [
    "logits = tf.add(tf.matmul(tf_X_test, W), b)[:, 0]\n",
    "pred = tf.nn.sigmoid(logits)\n",
    "auc_metric = tf.keras.metrics.AUC()\n",
    "auc_metric.update_state(Y_test, pred)\n",
    "print(f'Area under curve ROC for testing dataset is: {auc_metric.result().numpy():.3f}')"
   ]
  }
 ],
 "metadata": {
  "kaggle": {
   "accelerator": "none",
   "dataSources": [
    {
     "databundleVersionId": 44256,
     "sourceId": 4120,
     "sourceType": "competition"
    }
   ],
   "dockerImageVersionId": 30635,
   "isGpuEnabled": false,
   "isInternetEnabled": true,
   "language": "python",
   "sourceType": "notebook"
  },
  "kernelspec": {
   "display_name": "Python 3",
   "language": "python",
   "name": "python3"
  },
  "language_info": {
   "codemirror_mode": {
    "name": "ipython",
    "version": 3
   },
   "file_extension": ".py",
   "mimetype": "text/x-python",
   "name": "python",
   "nbconvert_exporter": "python",
   "pygments_lexer": "ipython3",
   "version": "3.10.12"
  },
  "papermill": {
   "default_parameters": {},
   "duration": 454.859145,
   "end_time": "2024-01-30T10:46:10.815778",
   "environment_variables": {},
   "exception": null,
   "input_path": "__notebook__.ipynb",
   "output_path": "__notebook__.ipynb",
   "parameters": {},
   "start_time": "2024-01-30T10:38:35.956633",
   "version": "2.4.0"
  }
 },
 "nbformat": 4,
 "nbformat_minor": 5
}
